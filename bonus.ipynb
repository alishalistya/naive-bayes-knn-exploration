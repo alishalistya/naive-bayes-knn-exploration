{
 "cells": [
  {
   "attachments": {},
   "cell_type": "markdown",
   "metadata": {
    "datalore": {
     "hide_input_from_viewers": false,
     "hide_output_from_viewers": false,
     "node_id": "Bonus",
     "sheet_delimiter": true,
     "type": "MD"
    }
   },
   "source": [
    "# Bonus"
   ]
  },
  {
   "cell_type": "code",
   "execution_count": 13,
   "metadata": {
    "datalore": {
     "hide_input_from_viewers": true,
     "hide_output_from_viewers": true,
     "node_id": "rEgoMWiBZRtDPuJqQdR83m",
     "type": "CODE"
    }
   },
   "outputs": [],
   "source": [
    "train_path = \"data_train.csv\"\n",
    "validation_path = \"data_validation.csv\"\n",
    "\n",
    "import pandas as pd\n",
    "import numpy as np\n",
    "\n",
    "df_train = pd.read_csv(train_path)\n",
    "df_validation = pd.read_csv(validation_path)\n",
    "\n",
    "nominal_columns = [\n",
    "    'blue',\n",
    "    'dual_sim',\n",
    "    'four_g',\n",
    "    'three_g',\n",
    "    'touch_screen',\n",
    "    'wifi',\n",
    "    'price_range' # ordinal are included as well, target value\n",
    "]\n",
    "\n",
    "ratio_columns = [\n",
    "    'battery_power',\n",
    "    'clock_speed',\n",
    "    'fc',\n",
    "    'int_memory',\n",
    "    'm_dep',\n",
    "    'mobile_wt',\n",
    "    'n_cores',\n",
    "    'pc',\n",
    "    'px_height',\n",
    "    'px_width',\n",
    "    'ram',\n",
    "    'sc_h',\n",
    "    'sc_w',\n",
    "    'talk_time'\n",
    "]"
   ]
  },
  {
   "cell_type": "code",
   "execution_count": 14,
   "metadata": {
    "datalore": {
     "hide_input_from_viewers": true,
     "hide_output_from_viewers": true,
     "node_id": "DKfm0OecHgbGi0lrAsK8TV",
     "type": "CODE"
    }
   },
   "outputs": [],
   "source": [
    "from typing import List\n",
    "\n",
    "def standardize_data(df: pd.DataFrame, columns: List[str]):\n",
    "        '''\n",
    "        Melakukan standarisasi dari data yang diberikan pada kolom yang diberikan dari data tersebut, lalu mengembalikan hasilnya\n",
    "        \n",
    "        Parameters:\n",
    "                df (Dataframe) : Data yang ingin dinormalisasi\n",
    "                columns (List[str]) : Kolom dari df yang ingin dinormalisasi\n",
    "\n",
    "        Returns:\n",
    "                df_standardized (Dataframe): salinan dari df yang telah dinormalisasi pada kolom yang diberikan\n",
    "        '''\n",
    "        df_standardized = df.copy()\n",
    "\n",
    "        for col in columns:\n",
    "            mean = df[col].mean()\n",
    "            std = df[col].std()\n",
    "            df_standardized[col] = (df[col] - mean)/std \n",
    "\n",
    "        return df_standardized"
   ]
  },
  {
   "cell_type": "code",
   "execution_count": 15,
   "metadata": {
    "datalore": {
     "hide_input_from_viewers": true,
     "hide_output_from_viewers": true,
     "node_id": "DuQ5Fvaf7Sl5nlR0olb3bY",
     "type": "CODE"
    }
   },
   "outputs": [
    {
     "name": "stdout",
     "output_type": "stream",
     "text": [
      "KNN Accuracy 0.9366666666666666\n",
      "KNN Normalized Accuracy 0.685\n",
      "Gaussian accuracy 0.7816666666666666\n",
      "Multinomial accuracy 0.5316666666666666\n",
      "Categorical accuracy 0.2966666666666667\n",
      "Bernoulli accuracy 0.23333333333333334\n"
     ]
    }
   ],
   "source": [
    "from sklearn.metrics import accuracy_score\n",
    "from sklearn.neighbors import KNeighborsClassifier\n",
    "from sklearn.naive_bayes import GaussianNB, MultinomialNB, CategoricalNB, BernoulliNB\n",
    "\n",
    "x_train = df_train.drop(['price_range'], axis=1)\n",
    "y_train = df_train['price_range']\n",
    "\n",
    "x_train_standardized = standardize_data(x_train, ratio_columns)\n",
    "\n",
    "x_validation = df_validation.drop(['price_range'], axis=1)\n",
    "y_validation = df_validation['price_range']\n",
    "\n",
    "# TEST WITH KNN\n",
    "model = KNeighborsClassifier(n_neighbors=17, weights='distance')\n",
    "model.fit(x_train, y_train)\n",
    "knn_accuracy = accuracy_score(y_validation, model.predict(x_validation))\n",
    "\n",
    "print(f\"KNN Accuracy {knn_accuracy}\")\n",
    "\n",
    "# TEST WITH KNN : Normalized\n",
    "model = KNeighborsClassifier(n_neighbors=17, weights='distance')\n",
    "model.fit(x_train_standardized, y_train)\n",
    "knn_accuracy = accuracy_score(y_validation, model.predict(standardize_data(x_validation, ratio_columns)))\n",
    "\n",
    "print(f\"KNN Normalized Accuracy {knn_accuracy}\")\n",
    "\n",
    "# TEST WITH NAIVE BAYES (Gaussian)\n",
    "model_gaussian = GaussianNB()\n",
    "model_gaussian.fit(x_train, y_train)\n",
    "gaussian_accuracy = accuracy_score(y_validation, model_gaussian.predict(x_validation))\n",
    "print(f\"Gaussian accuracy {gaussian_accuracy}\")\n",
    "\n",
    "# Test with Naive Bayes (Multinomial)\n",
    "model_multinomial = MultinomialNB()\n",
    "model_multinomial.fit(x_train, y_train)\n",
    "multinomial_acc = accuracy_score(y_validation, model_multinomial.predict(x_validation))\n",
    "print(f\"Multinomial accuracy {multinomial_acc}\")\n",
    "\n",
    "# Test with Naive Bayes (Categorical)\n",
    "model_categorical = CategoricalNB()\n",
    "model_categorical.fit(x_train, y_train)\n",
    "categorical_acc = accuracy_score(y_validation, model_categorical.predict(x_validation))\n",
    "print(f\"Categorical accuracy {categorical_acc}\")\n",
    "\n",
    "\n",
    "# Test with Naive Bayes (Multinomial)\n",
    "model_bernoulli = BernoulliNB()\n",
    "model_bernoulli.fit(x_train, y_train)\n",
    "bernoulli_acc = accuracy_score(y_validation, model_bernoulli.predict(x_validation))\n",
    "print(f\"Bernoulli accuracy {bernoulli_acc}\")"
   ]
  }
 ],
 "metadata": {
  "datalore": {
   "base_environment": "default",
   "computation_mode": "JUPYTER",
   "package_manager": "pip",
   "packages": [],
   "report_row_ids": [],
   "version": 3
  },
  "kernelspec": {
   "display_name": "Python",
   "language": "python",
   "name": "python"
  }
 },
 "nbformat": 4,
 "nbformat_minor": 4
}
